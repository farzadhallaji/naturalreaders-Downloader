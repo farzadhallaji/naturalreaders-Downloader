{
 "cells": [
  {
   "cell_type": "code",
   "execution_count": 8,
   "metadata": {},
   "outputs": [],
   "source": [
    "from selenium.webdriver.chrome.service import Service as ChromeService\n",
    "from selenium.webdriver.common.by import By\n",
    "from selenium.webdriver.support.ui import WebDriverWait\n",
    "from selenium.webdriver.support import expected_conditions as EC\n",
    "from seleniumwire import webdriver\n",
    "from webdriver_manager.chrome import ChromeDriverManager\n",
    "import time\n",
    "\n",
    "# Set up the WebDriver\n",
    "chrome_service = ChromeService(ChromeDriverManager().install())\n",
    "# Configure Chrome options\n",
    "options = webdriver.ChromeOptions()\n",
    "# options.add_argument(\"--auto-open-devtools-for-tabs\")  # Open DevTools automatically\n",
    "\n",
    "# Initialize the WebDriver with options\n",
    "driver = webdriver.Chrome(service=chrome_service, options=options)\n",
    "\n",
    "driver.get('https://www.naturalreaders.com/online')"
   ]
  },
  {
   "cell_type": "code",
   "execution_count": 15,
   "metadata": {},
   "outputs": [
    {
     "data": {
      "text/plain": [
       "['blob:https://www.naturalreaders.com/3fe1ee4a-fcf9-4005-8b4c-bd5ed7ed7616']"
      ]
     },
     "execution_count": 15,
     "metadata": {},
     "output_type": "execute_result"
    }
   ],
   "source": [
    "# JavaScript code to intercept blob URLs\n",
    "intercept_blob_urls_js = \"\"\"\n",
    "if (!window.__capturedBlobUrls) {        \n",
    "    window.__capturedBlobUrls = [];        \n",
    "    const originalCreateObjectURL = URL.createObjectURL;        \n",
    "    URL.createObjectURL = function(blob) {            \n",
    "        const url = originalCreateObjectURL(blob);                \n",
    "        window.__capturedBlobUrls.push(url);                \n",
    "        console.log('Blob URL captured:', url);                \n",
    "        return url;            \n",
    "    };        \n",
    "    console.log('Blob URL capture is now active.');\n",
    "}\n",
    "\"\"\"\n",
    "\n",
    "# Execute the script\n",
    "driver.execute_script(intercept_blob_urls_js)\n",
    "captured_blob_urls = driver.execute_script(\"return window.__capturedBlobUrls;\")\n",
    "captured_blob_urls"
   ]
  },
  {
   "cell_type": "code",
   "execution_count": 17,
   "metadata": {},
   "outputs": [
    {
     "name": "stdout",
     "output_type": "stream",
     "text": [
      "Downloaded and saved: ./Audio/Blue-Q1-1.mp3\n"
     ]
    }
   ],
   "source": [
    "import os\n",
    "import requests\n",
    "\n",
    "folder_path = './Audio'\n",
    "file_name_base = 'Blue-Q1'\n",
    "os.makedirs(folder_path, exist_ok=True)\n",
    "\n",
    "# Download each blob URL\n",
    "for index, blob_url in enumerate(captured_blob_urls):\n",
    "    # Create a new tab\n",
    "    driver.execute_script(f\"window.open('{blob_url}', '_blank');\")\n",
    "    driver.switch_to.window(driver.window_handles[-1])\n",
    "    \n",
    "    # Get the content of the blob\n",
    "    blob_content = driver.execute_script(\"return document.documentElement.innerText;\")\n",
    "    \n",
    "    file_path = os.path.join(folder_path, f\"{file_name_base}-{index + 1}.mp3\")\n",
    "    \n",
    "    # Write content to the file\n",
    "    with open(file_path, 'wb') as f:\n",
    "        f.write(blob_content.encode())\n",
    "    \n",
    "    print(f\"Downloaded and saved: {file_path}\")\n",
    "    \n",
    "    # Close the tab and switch back to the main window\n",
    "    driver.close()\n",
    "    driver.switch_to.window(driver.window_handles[0])"
   ]
  }
 ],
 "metadata": {
  "kernelspec": {
   "display_name": "tfl",
   "language": "python",
   "name": "python3"
  },
  "language_info": {
   "codemirror_mode": {
    "name": "ipython",
    "version": 3
   },
   "file_extension": ".py",
   "mimetype": "text/x-python",
   "name": "python",
   "nbconvert_exporter": "python",
   "pygments_lexer": "ipython3",
   "version": "3.9.19"
  }
 },
 "nbformat": 4,
 "nbformat_minor": 2
}
